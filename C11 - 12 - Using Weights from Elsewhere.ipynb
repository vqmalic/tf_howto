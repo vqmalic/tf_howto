{
 "cells": [
  {
   "cell_type": "code",
   "execution_count": 1,
   "metadata": {
    "collapsed": true
   },
   "outputs": [],
   "source": [
    "from utils import *"
   ]
  },
  {
   "cell_type": "markdown",
   "metadata": {},
   "source": [
    "Let's say you've got weights that you need to use but they're not in tensorflow format (e.g. maybe from Theano or Caffe or something). If you want to put these into your tensorflow model, you'll have to first get the weights into Python, probably as a numpy array. First, I'm going to load an old model, then we'll pretend we've gotten weights from somewhere else and load them in."
   ]
  },
  {
   "cell_type": "code",
   "execution_count": 2,
   "metadata": {
    "collapsed": true
   },
   "outputs": [],
   "source": [
    "reset_graph()"
   ]
  },
  {
   "cell_type": "code",
   "execution_count": 3,
   "metadata": {},
   "outputs": [],
   "source": [
    "# loads the graph\n",
    "saver = tf.train.import_meta_graph(\"savedmodels/11_07_gradientclipping.ckpt.meta\")"
   ]
  },
  {
   "cell_type": "markdown",
   "metadata": {},
   "source": [
    "Let's say we want to replace the weights in hidden layer 2 with something else. In tensorflow this is named `hidden2/kernel:0`. You can see the list of trainable variables by printing out items in `tf.trainable_variables()`. "
   ]
  },
  {
   "cell_type": "code",
   "execution_count": 4,
   "metadata": {},
   "outputs": [
    {
     "name": "stdout",
     "output_type": "stream",
     "text": [
      "INFO:tensorflow:Restoring parameters from savedmodels/11_07_gradientclipping.ckpt\n",
      "[[ 0.0381882  -0.04454234 -0.0126121   0.07089889 -0.03703738]\n",
      " [ 0.11136749 -0.01331152  0.09881812 -0.01967457 -0.05764915]\n",
      " [ 0.08301214 -0.15068418  0.01724102  0.10922857 -0.06793457]\n",
      " [-0.1117208   0.03834829  0.0244196   0.01757379  0.13873045]\n",
      " [-0.04542917 -0.01718456 -0.03057014  0.10342998  0.12199068]]\n",
      "(300, 50)\n"
     ]
    }
   ],
   "source": [
    "with tf.Session() as sess:\n",
    "    saver.restore(sess, \"savedmodels/11_07_gradientclipping.ckpt\")\n",
    "    q = sess.run(\"hidden2/kernel:0\")\n",
    "    print(q[:5, :5])\n",
    "    print(q.shape)"
   ]
  },
  {
   "cell_type": "markdown",
   "metadata": {},
   "source": [
    "The weights have a shape of $300 \\times 50$, representing weighted connections from the 300 neurons in hidden 1 to the 50 neurons of hidden 2. I'm just going to make up a random $300 \\times 50$ matrix, but assume we've pulled it from some other model. "
   ]
  },
  {
   "cell_type": "code",
   "execution_count": 5,
   "metadata": {},
   "outputs": [
    {
     "name": "stdout",
     "output_type": "stream",
     "text": [
      "[[ 0.49671415 -0.1382643   0.64768854  1.52302986 -0.23415337]\n",
      " [ 0.32408397 -0.38508228 -0.676922    0.61167629  1.03099952]\n",
      " [-1.41537074 -0.42064532 -0.34271452 -0.80227727 -0.16128571]\n",
      " [ 0.25049285  0.34644821 -0.68002472  0.2322537   0.29307247]\n",
      " [ 0.35778736  0.56078453  1.08305124  1.05380205 -1.37766937]]\n"
     ]
    }
   ],
   "source": [
    "new_weights = np.random.randn(300, 50)\n",
    "print(new_weights[:5, :5])"
   ]
  },
  {
   "cell_type": "markdown",
   "metadata": {},
   "source": [
    "Here's how we feed these weights into the model."
   ]
  },
  {
   "cell_type": "code",
   "execution_count": 6,
   "metadata": {},
   "outputs": [
    {
     "name": "stdout",
     "output_type": "stream",
     "text": [
      "INFO:tensorflow:Restoring parameters from savedmodels/11_07_gradientclipping.ckpt\n",
      "Old hidden 2 weights:\n",
      "[[ 0.0381882  -0.04454234 -0.0126121   0.07089889 -0.03703738]\n",
      " [ 0.11136749 -0.01331152  0.09881812 -0.01967457 -0.05764915]\n",
      " [ 0.08301214 -0.15068418  0.01724102  0.10922857 -0.06793457]\n",
      " [-0.1117208   0.03834829  0.0244196   0.01757379  0.13873045]\n",
      " [-0.04542917 -0.01718456 -0.03057014  0.10342998  0.12199068]]\n",
      "Old hidden 1 weights:\n",
      "[[-0.07049792 -0.00975064 -0.03468948  0.03130994  0.05715947]\n",
      " [ 0.04928269 -0.05647784  0.03744679 -0.01494795 -0.01138932]\n",
      " [ 0.07077828 -0.00395048  0.01716127 -0.04993568 -0.01295266]\n",
      " [ 0.05774249 -0.00075845 -0.03363854 -0.02605219 -0.02206105]\n",
      " [ 0.02206128  0.00489597 -0.06169014  0.00238407  0.02339816]]\n",
      "New hidden 2 weights:\n",
      "[[ 0.49671414 -0.1382643   0.64768857  1.5230298  -0.23415338]\n",
      " [ 0.32408398 -0.38508227 -0.67692202  0.61167628  1.03099954]\n",
      " [-1.4153707  -0.42064533 -0.34271452 -0.80227727 -0.16128571]\n",
      " [ 0.25049284  0.34644821 -0.68002474  0.2322537   0.29307246]\n",
      " [ 0.35778737  0.56078452  1.0830512   1.05380201 -1.37766933]]\n",
      "New hidden 1 weights:\n",
      "[[-0.07049792 -0.00975064 -0.03468948  0.03130994  0.05715947]\n",
      " [ 0.04928269 -0.05647784  0.03744679 -0.01494795 -0.01138932]\n",
      " [ 0.07077828 -0.00395048  0.01716127 -0.04993568 -0.01295266]\n",
      " [ 0.05774249 -0.00075845 -0.03363854 -0.02605219 -0.02206105]\n",
      " [ 0.02206128  0.00489597 -0.06169014  0.00238407  0.02339816]]\n"
     ]
    }
   ],
   "source": [
    "# Get the assign ops for hidden2\n",
    "assign_kernel = tf.get_default_graph().get_operation_by_name(\"hidden2/kernel/Assign\")\n",
    "# Get the initializing assignment, which is the second item, index 1\n",
    "init_kernel = assign_kernel.inputs[1]\n",
    "\n",
    "# make a new init operation\n",
    "init = tf.global_variables_initializer()\n",
    "\n",
    "with tf.Session() as sess:\n",
    "    # restore parameters\n",
    "    saver.restore(sess, \"savedmodels/11_07_gradientclipping.ckpt\")\n",
    "    print(\"Old hidden 2 weights:\")\n",
    "    print(sess.run(\"hidden2/kernel:0\")[:5, :5])\n",
    "    print(\"Old hidden 1 weights:\")\n",
    "    print(sess.run(\"hidden1/kernel:0\")[:5, :5])\n",
    "    \n",
    "    # load the new weights\n",
    "    sess.run(init, feed_dict={init_kernel: new_weights})\n",
    "    print(\"New hidden 2 weights:\")\n",
    "    print(sess.run(\"hidden2/kernel:0\")[:5, :5])\n",
    "    print(\"New hidden 1 weights:\")\n",
    "    print(sess.run(\"hidden1/kernel:0\")[:5, :5]) "
   ]
  },
  {
   "cell_type": "markdown",
   "metadata": {},
   "source": [
    "Note that the hidden 1 weights remain unchaged, but the hidden 2 weights have been updated with the values in `new_weights`. "
   ]
  }
 ],
 "metadata": {
  "kernelspec": {
   "display_name": "Python 3",
   "language": "python",
   "name": "python3"
  },
  "language_info": {
   "codemirror_mode": {
    "name": "ipython",
    "version": 3
   },
   "file_extension": ".py",
   "mimetype": "text/x-python",
   "name": "python",
   "nbconvert_exporter": "python",
   "pygments_lexer": "ipython3",
   "version": "3.5.2"
  }
 },
 "nbformat": 4,
 "nbformat_minor": 2
}
