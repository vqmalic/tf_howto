{
 "cells": [
  {
   "cell_type": "code",
   "execution_count": 1,
   "metadata": {
    "collapsed": true
   },
   "outputs": [],
   "source": [
    "from utils import *"
   ]
  },
  {
   "cell_type": "code",
   "execution_count": 2,
   "metadata": {},
   "outputs": [
    {
     "name": "stdout",
     "output_type": "stream",
     "text": [
      "Extracting tmp/train-images-idx3-ubyte.gz\n",
      "Extracting tmp/train-labels-idx1-ubyte.gz\n",
      "Extracting tmp/t10k-images-idx3-ubyte.gz\n",
      "Extracting tmp/t10k-labels-idx1-ubyte.gz\n"
     ]
    }
   ],
   "source": [
    "# load data\n",
    "\n",
    "from tensorflow.examples.tutorials.mnist import input_data\n",
    "mnist = input_data.read_data_sets(\"tmp/\")"
   ]
  },
  {
   "cell_type": "markdown",
   "metadata": {},
   "source": [
    "The SELU (scaled exponential linear unit) activation function's shape and parameters were determined experimentally in the [the 2017 paper Self-Normalizing Neural Networks](https://arxiv.org/abs/1706.02515). Merely using this activation has the amazing effect of ensuring the outputs of neurons in a particular layer have 0 mean and a standard deviation of 1. This helps immensely with learning and the vanishing/exploding gradient problem.\n",
    "\n",
    "To illustrate this, let's imagine a deep network with random weights and a random input. We'll forward propogate the inputs through it and watch what the cumulative effect of matrix multiplications is on the neuron's outputs when using the vanilla sigmoid function."
   ]
  },
  {
   "cell_type": "code",
   "execution_count": 4,
   "metadata": {},
   "outputs": [
    {
     "name": "stdout",
     "output_type": "stream",
     "text": [
      "Layer 0: 0.06 < mean < 0.40, 0.35 < std < 0.81\n",
      "Layer 1: -0.02 < mean < 0.22, 0.17 < std < 0.52\n",
      "Layer 2: -0.02 < mean < 0.08, 0.08 < std < 0.28\n",
      "Layer 3: -0.01 < mean < 0.04, 0.04 < std < 0.15\n",
      "Layer 4: -0.01 < mean < 0.02, 0.02 < std < 0.08\n",
      "Layer 5: -0.00 < mean < 0.01, 0.01 < std < 0.04\n",
      "Layer 6: -0.01 < mean < 0.00, 0.01 < std < 0.02\n",
      "Layer 7: -0.00 < mean < 0.00, 0.00 < std < 0.01\n",
      "Layer 8: -0.00 < mean < 0.00, 0.00 < std < 0.01\n",
      "Layer 9: -0.00 < mean < 0.00, 0.00 < std < 0.00\n",
      "Layer 10: -0.00 < mean < 0.00, 0.00 < std < 0.00\n",
      "Layer 11: -0.00 < mean < 0.00, 0.00 < std < 0.00\n",
      "Layer 12: -0.00 < mean < 0.00, 0.00 < std < 0.00\n",
      "Layer 13: -0.00 < mean < 0.00, 0.00 < std < 0.00\n",
      "Layer 14: -0.00 < mean < 0.00, 0.00 < std < 0.00\n"
     ]
    }
   ],
   "source": [
    "def sigmoid(x):\n",
    "    return x / (1+np.exp(-x))\n",
    "\n",
    "\n",
    "Z = np.random.normal(size=(500, 100))\n",
    "for layer in range(15):\n",
    "    W = np.random.normal(size=(100, 100), scale=np.sqrt(1/100))\n",
    "    Z = sigmoid(np.dot(Z, W))\n",
    "    means = np.mean(Z, axis=1)\n",
    "    stds = np.std(Z, axis=1)\n",
    "    print(\"Layer {}: {:.2f} < mean < {:.2f}, {:.2f} < std < {:.2f}\".format(layer, \n",
    "                                                                               means.min(), \n",
    "                                                                               means.max(), \n",
    "                                                                               stds.min(), \n",
    "                                                                               stds.max()))"
   ]
  },
  {
   "cell_type": "markdown",
   "metadata": {},
   "source": [
    "By the 15th layer, most of the neurons are dead - they're not getting enough of a signal. By contrast, compare SELU. Note that in this SELU example we're not going to use a 15-layer neural network, we'll use a 100 layer one, and still the signals are preserved."
   ]
  },
  {
   "cell_type": "code",
   "execution_count": 5,
   "metadata": {},
   "outputs": [
    {
     "name": "stdout",
     "output_type": "stream",
     "text": [
      "Layer 0: -0.26 < mean < 0.37, 0.75 < std < 1.28\n",
      "Layer 10: -0.26 < mean < 0.20, 0.74 < std < 1.31\n",
      "Layer 20: -0.28 < mean < 0.26, 0.77 < std < 1.40\n",
      "Layer 30: -0.30 < mean < 0.33, 0.76 < std < 1.25\n",
      "Layer 40: -0.24 < mean < 0.24, 0.73 < std < 1.25\n",
      "Layer 50: -0.23 < mean < 0.22, 0.72 < std < 1.30\n",
      "Layer 60: -0.31 < mean < 0.37, 0.75 < std < 1.28\n",
      "Layer 70: -0.23 < mean < 0.19, 0.72 < std < 1.26\n",
      "Layer 80: -0.25 < mean < 0.27, 0.78 < std < 1.27\n",
      "Layer 90: -0.22 < mean < 0.27, 0.70 < std < 1.36\n"
     ]
    }
   ],
   "source": [
    "def elu(z, alpha=1, name=None):\n",
    "    return np.where(z < 0, alpha * (np.exp(z) - 1), z)\n",
    "\n",
    "def selu(z,\n",
    "         scale=1.0507009873554804934193349852946,\n",
    "         alpha=1.6732632423543772848170429916717, name=None):\n",
    "    return scale * elu(z, alpha)\n",
    "\n",
    "Z = np.random.normal(size=(500, 100))\n",
    "for layer in range(100):\n",
    "    W = np.random.normal(size=(100, 100), scale=np.sqrt(1/100))\n",
    "    Z = selu(np.dot(Z, W))\n",
    "    means = np.mean(Z, axis=1)\n",
    "    stds = np.std(Z, axis=1)\n",
    "    if layer % 10 == 0:\n",
    "        print(\"Layer {}: {:.2f} < mean < {:.2f}, {:.2f} < std < {:.2f}\".format(layer, \n",
    "                                                                               means.min(), \n",
    "                                                                               means.max(), \n",
    "                                                                               stds.min(), \n",
    "                                                                               stds.max()))"
   ]
  },
  {
   "cell_type": "markdown",
   "metadata": {},
   "source": [
    "Pretty impressive. Here's a shallow mnist neural network that uses it - just so we know how implementation works. Likely, in the future TF will have its own native implementation of SELU."
   ]
  },
  {
   "cell_type": "code",
   "execution_count": 6,
   "metadata": {
    "collapsed": true
   },
   "outputs": [],
   "source": [
    "# redefining activations with tf ops\n",
    "\n",
    "def elu(z, alpha=1, name=None):\n",
    "    return tf.where(z < 0, alpha * (tf.exp(z) - 1), z)\n",
    "\n",
    "def selu(z,\n",
    "         scale=1.0507009873554804934193349852946,\n",
    "         alpha=1.6732632423543772848170429916717, name=None):\n",
    "    return scale * elu(z, alpha)"
   ]
  },
  {
   "cell_type": "code",
   "execution_count": 7,
   "metadata": {
    "collapsed": true
   },
   "outputs": [],
   "source": [
    "# construction\n",
    "\n",
    "reset_graph()\n",
    "\n",
    "n_inputs = 28*28\n",
    "n_hidden1 = 300\n",
    "n_hidden2 = 100\n",
    "n_outputs = 10\n",
    "\n",
    "learning_rate= 0.01\n",
    "\n",
    "X = tf.placeholder(tf.float32, shape=(None, n_inputs), name=\"X\")\n",
    "y = tf.placeholder(tf.int64, shape=(None), name=\"y\")\n",
    "\n",
    "with tf.name_scope(\"dnn\"):\n",
    "    hidden1 = tf.layers.dense(X, n_hidden1, activation=selu , name=\"hidden1\")\n",
    "    hidden2 = tf.layers.dense(hidden1, n_hidden2, activation=selu , name=\"hidden2\")\n",
    "    logits = tf.layers.dense(hidden2, n_outputs, name=\"outputs\")\n",
    "    \n",
    "with tf.name_scope(\"loss\"):\n",
    "    xentropy = tf.nn.sparse_softmax_cross_entropy_with_logits(logits=logits, labels=y)\n",
    "    loss = tf.reduce_mean(xentropy, name=\"loss\")   \n",
    "    \n",
    "with tf.name_scope(\"train\"):\n",
    "    optimizer = tf.train.GradientDescentOptimizer(learning_rate)\n",
    "    training_op = optimizer.minimize(loss)\n",
    "    \n",
    "with tf.name_scope(\"eval\"):\n",
    "    correct = tf.nn.in_top_k(logits, y, k=1)\n",
    "    accuracy = tf.reduce_mean(tf.cast(correct, tf.float32))\n",
    "    \n",
    "init = tf.global_variables_initializer()\n",
    "saver = tf.train.Saver()"
   ]
  },
  {
   "cell_type": "code",
   "execution_count": 8,
   "metadata": {},
   "outputs": [
    {
     "name": "stdout",
     "output_type": "stream",
     "text": [
      "0 train acc: 0.903691 val acc: 0.9108\n",
      "5 train acc: 0.937545 val acc: 0.938\n",
      "10 train acc: 0.955418 val acc: 0.9542\n",
      "15 train acc: 0.966818 val acc: 0.9618\n",
      "20 train acc: 0.973382 val acc: 0.9664\n",
      "25 train acc: 0.978509 val acc: 0.968\n",
      "30 train acc: 0.982818 val acc: 0.97\n",
      "35 train acc: 0.986309 val acc: 0.9724\n",
      "39 train acc: 0.987873 val acc: 0.974\n",
      "Test acc: 0.9742\n"
     ]
    }
   ],
   "source": [
    "# execution\n",
    "\n",
    "n_epochs = 40\n",
    "batch_size = 50\n",
    "\n",
    "with tf.Session() as sess:\n",
    "    init.run()\n",
    "    for epoch in range(n_epochs):\n",
    "        for iteration in range(mnist.train.num_examples // batch_size):\n",
    "            X_batch, y_batch = mnist.train.next_batch(batch_size)\n",
    "            sess.run(training_op, feed_dict={X:X_batch, y:y_batch})\n",
    "        if epoch % 5 == 0 or epoch == n_epochs - 1:\n",
    "            acc_train = accuracy.eval(feed_dict={X:mnist.train.images, y:mnist.train.labels})\n",
    "            acc_val = accuracy.eval(feed_dict={X:mnist.validation.images, y:mnist.validation.labels})\n",
    "            print(epoch, \"train acc:\", acc_train, \"val acc:\", acc_val)\n",
    "    acc_test = accuracy.eval(feed_dict={X:mnist.test.images, y:mnist.test.labels})\n",
    "    print(\"Test acc:\", acc_test)"
   ]
  }
 ],
 "metadata": {
  "kernelspec": {
   "display_name": "Python 3",
   "language": "python",
   "name": "python3"
  },
  "language_info": {
   "codemirror_mode": {
    "name": "ipython",
    "version": 3
   },
   "file_extension": ".py",
   "mimetype": "text/x-python",
   "name": "python",
   "nbconvert_exporter": "python",
   "pygments_lexer": "ipython3",
   "version": "3.6.1"
  }
 },
 "nbformat": 4,
 "nbformat_minor": 2
}
